{
 "cells": [
  {
   "cell_type": "code",
   "execution_count": 9,
   "id": "5ca0f1f8-08d4-47fc-9ea1-e9567e8001f4",
   "metadata": {},
   "outputs": [],
   "source": [
    "import pandas as pd\n",
    "import numpy as np\n",
    "from sklearn.feature_extraction.text import TfidfVectorizer\n",
    "from sklearn.metrics.pairwise import cosine_similarity"
   ]
  },
  {
   "cell_type": "code",
   "execution_count": null,
   "id": "66fa2b5f-006c-484a-bba0-a7929a38a57c",
   "metadata": {},
   "outputs": [],
   "source": [
    "# Load dataset\n",
    "dataset_url = \"https://raw.githubusercontent.com/rashida048/Some-NLP-Projects/master/movie_dataset.csv\"\n",
    "df = pd.read_csv(dataset_url)\n",
    "df.head()\n",
    "df.shape"
   ]
  },
  {
   "cell_type": "code",
   "execution_count": null,
   "id": "e7047769-bb8f-4aaa-ae2c-75ff7cf5acb6",
   "metadata": {},
   "outputs": [],
   "source": [
    "# Select relevant features for content-based filtering\n",
    "features = ['title', 'genres', 'director', 'cast', 'keywords', 'overview']\n",
    "df = df[features]\n",
    "df.isnull().sum()"
   ]
  },
  {
   "cell_type": "code",
   "execution_count": null,
   "id": "6daa81c3-578c-43bd-aad2-02126fca63ae",
   "metadata": {},
   "outputs": [],
   "source": [
    "# Handle missing values\n",
    "df = df.fillna('')"
   ]
  },
  {
   "cell_type": "code",
   "execution_count": 17,
   "id": "86064307-d83f-4391-8f07-5386ccc44141",
   "metadata": {},
   "outputs": [],
   "source": [
    "# Combine selected features into a single text column\n",
    "df['Combined'] = df['genres'] + ' ' + df['director'] + ' ' + df['cast'] + ' ' + df['keywords'] + ' ' + df['overview']"
   ]
  },
  {
   "cell_type": "code",
   "execution_count": 18,
   "id": "a563b373-cf12-46dc-8cec-10397eac41aa",
   "metadata": {},
   "outputs": [],
   "source": [
    "# Convert text data into numerical format using TF-IDF Vectorizer\n",
    "vectorizer = TfidfVectorizer(stop_words='english')\n",
    "feature_matrix = vectorizer.fit_transform(df['Combined'])"
   ]
  },
  {
   "cell_type": "code",
   "execution_count": 19,
   "id": "c4a8a90d-5e65-427d-8c51-30deb8e60875",
   "metadata": {},
   "outputs": [],
   "source": [
    "# Compute similarity using cosine similarity\n",
    "similarity_matrix = cosine_similarity(feature_matrix)"
   ]
  },
  {
   "cell_type": "code",
   "execution_count": 20,
   "id": "631c1825-03be-4723-b3c6-56a374b41051",
   "metadata": {},
   "outputs": [],
   "source": [
    "# Function to get movie recommendations\n",
    "def recommend_movies(movie_title, num_recommendations=5):\n",
    "    if movie_title not in df['title'].values:\n",
    "        return \"Movie not found in dataset.\"\n",
    "    \n",
    "    # Get index of the movie\n",
    "    idx = df[df['title'] == movie_title].index[0]\n",
    "    \n",
    "    # Get similarity scores for all movies with the given movie\n",
    "    similarity_scores = list(enumerate(similarity_matrix[idx]))\n",
    "    \n",
    "    # Sort movies based on similarity scores in descending order\n",
    "    sorted_movies = sorted(similarity_scores, key=lambda x: x[1], reverse=True)[1:num_recommendations+1]\n",
    "    \n",
    "    # Get recommended movie titles\n",
    "    recommended_movies = [df.iloc[i[0]]['title'] for i in sorted_movies]\n",
    "    return recommended_movies"
   ]
  },
  {
   "cell_type": "code",
   "execution_count": 21,
   "id": "ef7099d6-12ca-466c-afd1-29c4a300d1e9",
   "metadata": {},
   "outputs": [
    {
     "name": "stdout",
     "output_type": "stream",
     "text": [
      "Movies similar to The Avengers: ['Avengers: Age of Ultron', 'Iron Man 2', 'Captain America: The Winter Soldier', 'Captain America: Civil War', 'X-Men']\n"
     ]
    }
   ],
   "source": [
    "# Example usage\n",
    "movie_name = \"The Avengers\"\n",
    "print(f\"Movies similar to {movie_name}: {recommend_movies(movie_name)}\")"
   ]
  },
  {
   "cell_type": "code",
   "execution_count": null,
   "id": "e31c0cf0-88aa-4b0d-8b84-fd8424454be2",
   "metadata": {},
   "outputs": [],
   "source": []
  },
  {
   "cell_type": "code",
   "execution_count": null,
   "id": "c68f41e9-11ff-466b-9d21-68434c52ce3e",
   "metadata": {},
   "outputs": [],
   "source": []
  }
 ],
 "metadata": {
  "kernelspec": {
   "display_name": "Python [conda env:base] *",
   "language": "python",
   "name": "conda-base-py"
  },
  "language_info": {
   "codemirror_mode": {
    "name": "ipython",
    "version": 3
   },
   "file_extension": ".py",
   "mimetype": "text/x-python",
   "name": "python",
   "nbconvert_exporter": "python",
   "pygments_lexer": "ipython3",
   "version": "3.12.7"
  }
 },
 "nbformat": 4,
 "nbformat_minor": 5
}
